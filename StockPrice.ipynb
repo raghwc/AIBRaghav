{
 "cells": [
  {
   "cell_type": "code",
   "execution_count": null,
   "metadata": {},
   "outputs": [
    {
     "ename": "",
     "evalue": "",
     "output_type": "error",
     "traceback": [
      "\u001b[1;31mFailed to start the Kernel. \n",
      "\u001b[1;31mBad file descriptor (C:\\Users\\runneradmin\\AppData\\Local\\Temp\\tmpkywtyyea\\build\\_deps\\bundled_libzmq-src\\src\\epoll.cpp:73). \n",
      "\u001b[1;31mView Jupyter <a href='command:jupyter.viewOutput'>log</a> for further details."
     ]
    }
   ],
   "source": [
    "import yfinance as yf\n",
    "import pandas as pd\n",
    "import ta \n",
    "\n",
    "def get_stock_metrics(tickers):\n",
    "    metrics = {}\n",
    "    for ticker in tickers:\n",
    "        stock = yf.Ticker(ticker)\n",
    "        stock_info = stock.history(period='5d')  # Get the last 5 days of data\n",
    "\n",
    "        if not stock_info.empty and len(stock_info) >= 2:\n",
    "            current_price = stock_info['Close'].iloc[-1]\n",
    "            prev_price = stock_info['Close'].iloc[-2]\n",
    "            current_volume = stock_info['Volume'].iloc[-1]\n",
    "            prev_volume = stock_info['Volume'].iloc[-2]\n",
    "            \n",
    "            # Calculate RSI\n",
    "            stock_info['RSI'] = ta.momentum.RSIIndicator(stock_info['Close'], window=14).rsi()\n",
    "            current_rsi = stock_info['RSI'].iloc[-1]\n",
    "\n",
    "            # Calculate percentage differences\n",
    "            price_diff = ((current_price - prev_price) / prev_price) * 100\n",
    "            volume_diff = ((current_volume - prev_volume) / prev_volume) * 100\n",
    "\n",
    "            metrics[ticker] = {\n",
    "                'Current Price': current_price,\n",
    "                'Previous Price': prev_price,\n",
    "                'Current Volume': current_volume,\n",
    "                'Previous Volume': prev_volume,\n",
    "                'RSI': current_rsi,\n",
    "                'Price % Change': price_diff,\n",
    "                'Volume % Change': volume_diff\n",
    "            }\n",
    "        else:\n",
    "            metrics[ticker] = {\n",
    "                'Current Price': None,\n",
    "                'Previous Price': None,\n",
    "                'Current Volume': None,\n",
    "                'Previous Volume': None,\n",
    "                'RSI': None,\n",
    "                'Price % Change': None,\n",
    "                'Volume % Change': None\n",
    "            }\n",
    "    return metrics\n",
    "\n",
    "# Example usage\n",
    "tickers = ['NMDC.NS','PFC.NS','ADANIPORTS.NS','BLS.NS', 'UNIONBANK.NS']  # Replace with the desired ticker symbols\n",
    "stock_metrics = get_stock_metrics(tickers)\n",
    "\n",
    "# Convert the dictionary to a DataFrame\n",
    "df = pd.DataFrame(stock_metrics).transpose()\n",
    "\n",
    "# Round the values to one decimal point\n",
    "df = df.round(1)\n",
    "\n",
    "# Print the DataFrame\n",
    "print(df)\n"
   ]
  }
 ],
 "metadata": {
  "kernelspec": {
   "display_name": "Python 3",
   "language": "python",
   "name": "python3"
  },
  "language_info": {
   "name": "python",
   "version": "3.12.4"
  }
 },
 "nbformat": 4,
 "nbformat_minor": 2
}
